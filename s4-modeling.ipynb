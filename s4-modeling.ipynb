{
 "cells": [
  {
   "cell_type": "code",
   "execution_count": null,
   "metadata": {},
   "outputs": [],
   "source": [
    "# Importing necssary modules\n",
    "from scripts.utils import load_device_data_v2\n",
    "from scripts.models import rf_classifier"
   ]
  },
  {
   "cell_type": "code",
   "execution_count": null,
   "metadata": {},
   "outputs": [],
   "source": [
    "# Data folder path and Extention of the data files\n",
    "base_directory = '../rawdata'\n",
    "file_extension = \"*.csv\""
   ]
  },
  {
   "cell_type": "markdown",
   "metadata": {},
   "source": [
    "### Loading Device Data into Dataframe\n",
    "###### Door Bells"
   ]
  },
  {
   "cell_type": "code",
   "execution_count": null,
   "metadata": {},
   "outputs": [],
   "source": [
    "danmini_doorbell_df = load_device_data_v2(base_directory, file_extension, 'Danmini_Doorbell')\n",
    "ennio_doorbell_df = load_device_data_v2(base_directory, file_extension, 'Ennio_Doorbell')"
   ]
  },
  {
   "cell_type": "markdown",
   "metadata": {},
   "source": [
    "###### Thermostat"
   ]
  },
  {
   "cell_type": "code",
   "execution_count": null,
   "metadata": {},
   "outputs": [],
   "source": [
    "ecobee_thermostat_df = load_device_data_v2(base_directory, file_extension, 'Ecobee_Thermostat')"
   ]
  },
  {
   "cell_type": "markdown",
   "metadata": {},
   "source": [
    "###### Web cam"
   ]
  },
  {
   "cell_type": "code",
   "execution_count": null,
   "metadata": {},
   "outputs": [],
   "source": [
    "samsung_cam_df = load_device_data_v2(base_directory, file_extension, 'Samsung_SNH_1011_N_Webcam')"
   ]
  },
  {
   "cell_type": "markdown",
   "metadata": {},
   "source": [
    "###### Baby monitor"
   ]
  },
  {
   "cell_type": "code",
   "execution_count": null,
   "metadata": {},
   "outputs": [],
   "source": [
    "baby_monitor_df = load_device_data_v2(base_directory, file_extension, 'Philips_B120N10_Baby_Monitor')"
   ]
  },
  {
   "cell_type": "markdown",
   "metadata": {},
   "source": [
    "###### Security Cam"
   ]
  },
  {
   "cell_type": "code",
   "execution_count": null,
   "metadata": {},
   "outputs": [],
   "source": [
    "provision_cam1_df = load_device_data_v2(base_directory, file_extension, 'Provision_PT_737E_Security_Camera')\n",
    "provision_cam2_df = load_device_data_v2(base_directory, file_extension, 'Provision_PT_838_Security_Camera')\n",
    "simplehome_cam1_df = load_device_data_v2(base_directory, file_extension, 'SimpleHome_XCS7_1002_WHT_Security_Camera')\n",
    "simplehome_cam2_df = load_device_data_v2(base_directory, file_extension, 'SimpleHome_XCS7_1003_WHT_Security_Camera')"
   ]
  },
  {
   "cell_type": "markdown",
   "metadata": {},
   "source": [
    "##### Model Training"
   ]
  },
  {
   "cell_type": "code",
   "execution_count": null,
   "metadata": {},
   "outputs": [],
   "source": [
    "dataframe = {\"Danmini_Doorbell\": danmini_doorbell_df, \n",
    "            \"Ecobee_Thermostat\": ecobee_thermostat_df,\n",
    "            \"Ennio_Doorbell\": ennio_doorbell_df,\n",
    "            \"Philips_B120N10_Baby_Monitor\": baby_monitor_df,\n",
    "            \"Provision_PT_737E_Security_Camera\": provision_cam1_df,\n",
    "            \"Provision_PT_838_Security_Camera\": provision_cam2_df,\n",
    "            \"Samsung_SNH_1011_N_Webcam\": samsung_cam_df,\n",
    "            \"SimpleHome_XCS7_1002_WHT_Security_Camera\": simplehome_cam1_df,\n",
    "            \"SimpleHome_XCS7_1003_WHT_Security_Camera\": simplehome_cam2_df\n",
    "            }"
   ]
  },
  {
   "cell_type": "code",
   "execution_count": null,
   "metadata": {},
   "outputs": [],
   "source": [
    "for k in dataframe:\n",
    "    print(\"----------------------xxxxxxx----------------------\")\n",
    "    print(k)\n",
    "    print(\"----------------------xxxxxxx----------------------\")\n",
    "    results = rf_classifier(dataframe[k], k)\n",
    "    print(results)\n",
    "    print(\"---------------------xxxxxxx-----------------------\")"
   ]
  }
 ],
 "metadata": {
  "kernelspec": {
   "display_name": "Python 3 (ipykernel)",
   "language": "python",
   "name": "python3"
  },
  "language_info": {
   "codemirror_mode": {
    "name": "ipython",
    "version": 3
   },
   "file_extension": ".py",
   "mimetype": "text/x-python",
   "name": "python",
   "nbconvert_exporter": "python",
   "pygments_lexer": "ipython3",
   "version": "3.9.7"
  }
 },
 "nbformat": 4,
 "nbformat_minor": 4
}
